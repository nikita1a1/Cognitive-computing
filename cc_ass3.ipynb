{
  "nbformat": 4,
  "nbformat_minor": 0,
  "metadata": {
    "colab": {
      "provenance": []
    },
    "kernelspec": {
      "name": "python3",
      "display_name": "Python 3"
    },
    "language_info": {
      "name": "python"
    }
  },
  "cells": [
    {
      "cell_type": "markdown",
      "source": [
        "QUE1:\n"
      ],
      "metadata": {
        "id": "heMtyiiqqtM1"
      }
    },
    {
      "cell_type": "code",
      "execution_count": null,
      "metadata": {
        "colab": {
          "base_uri": "https://localhost:8080/"
        },
        "id": "9_E-DGeon4L5",
        "outputId": "2285c7bc-1485-412d-9a74-aeb4f3ebdf42"
      },
      "outputs": [
        {
          "output_type": "stream",
          "name": "stdout",
          "text": [
            "  refund martial status taxable income cheat\n",
            "0    yes         single           125k    no\n",
            "1     no        married           100k    no\n",
            "2     no         single            70k    no\n",
            "3    yes        married           120k    no\n",
            "4     no       divorced            95k   yes\n",
            "5     no        married            60k    no\n",
            "6    yes       divorced           220k    no\n",
            "7     no         single            85k   yes\n",
            "8     no        married            75k    no\n",
            "9     no         single            90k   yes\n"
          ]
        }
      ],
      "source": [
        "import pandas as pd\n",
        "data={\"refund\":[\"yes\",\"no\",\"no\",\"yes\",\"no\",\"no\",\"yes\",\"no\",\"no\",\"no\"],\"martial status\":[\"single\",\"married\",\"single\",\n",
        "\"married\",\"divorced\",\"married\",\"divorced\",\"single\",\"married\",\"single\"],\"taxable income\":[\"125k\",\"100k\",\"70k\",\"120k\",\n",
        "\"95k\",\"60k\",\"220k\",\"85k\",\"75k\",\"90k\"],\"cheat\":[\"no\",\"no\",\"no\",\"no\",\"yes\",\"no\",\"no\",\"yes\",\"no\",\"yes\"]}\n",
        "df=pd.DataFrame(data)\n",
        "print(df)\n"
      ]
    },
    {
      "cell_type": "markdown",
      "source": [
        "QUE2:"
      ],
      "metadata": {
        "id": "4KWjYyOIqoFk"
      }
    },
    {
      "cell_type": "code",
      "source": [
        "print(df.iloc[[0,4,7,8]])"
      ],
      "metadata": {
        "colab": {
          "base_uri": "https://localhost:8080/"
        },
        "id": "v9IPxdhIqfVq",
        "outputId": "5b522bbf-6336-49c8-c0bc-894d436a8e8d"
      },
      "execution_count": null,
      "outputs": [
        {
          "output_type": "stream",
          "name": "stdout",
          "text": [
            "  refund martial status taxable income cheat\n",
            "0    yes         single           125k    no\n",
            "4     no       divorced            95k   yes\n",
            "7     no         single            85k   yes\n",
            "8     no        married            75k    no\n"
          ]
        }
      ]
    },
    {
      "cell_type": "markdown",
      "source": [],
      "metadata": {
        "id": "6h05Nkq4uRat"
      }
    },
    {
      "cell_type": "markdown",
      "source": [
        "QUE3:"
      ],
      "metadata": {
        "id": "dpS3tw3WrGDT"
      }
    },
    {
      "cell_type": "code",
      "source": [
        "print(df.iloc[3:8])"
      ],
      "metadata": {
        "colab": {
          "base_uri": "https://localhost:8080/"
        },
        "id": "6CxBnQlKrHy2",
        "outputId": "de8c8185-700b-456f-b8f9-b72bde28d217"
      },
      "execution_count": null,
      "outputs": [
        {
          "output_type": "stream",
          "name": "stdout",
          "text": [
            "  refund martial status taxable income cheat\n",
            "3    yes        married           120k    no\n",
            "4     no       divorced            95k   yes\n",
            "5     no        married            60k    no\n",
            "6    yes       divorced           220k    no\n",
            "7     no         single            85k   yes\n"
          ]
        }
      ]
    },
    {
      "cell_type": "code",
      "source": [
        "print(df.iloc[4:9,1:4])"
      ],
      "metadata": {
        "colab": {
          "base_uri": "https://localhost:8080/"
        },
        "id": "kNYAQs0atTbF",
        "outputId": "7dc47934-fd21-4074-ede6-2e382d795209"
      },
      "execution_count": null,
      "outputs": [
        {
          "output_type": "stream",
          "name": "stdout",
          "text": [
            "  martial status taxable income cheat\n",
            "4       divorced            95k   yes\n",
            "5        married            60k    no\n",
            "6       divorced           220k    no\n",
            "7         single            85k   yes\n",
            "8        married            75k    no\n"
          ]
        }
      ]
    },
    {
      "cell_type": "code",
      "source": [
        "print(df.iloc[:,0:3])"
      ],
      "metadata": {
        "colab": {
          "base_uri": "https://localhost:8080/"
        },
        "id": "Rv7ZQ4KauE0p",
        "outputId": "fd51a822-4eae-4bb9-d6a5-5f8f4ad4fbd0"
      },
      "execution_count": null,
      "outputs": [
        {
          "output_type": "stream",
          "name": "stdout",
          "text": [
            "  refund martial status taxable income\n",
            "0    yes         single           125k\n",
            "1     no        married           100k\n",
            "2     no         single            70k\n",
            "3    yes        married           120k\n",
            "4     no       divorced            95k\n",
            "5     no        married            60k\n",
            "6    yes       divorced           220k\n",
            "7     no         single            85k\n",
            "8     no        married            75k\n",
            "9     no         single            90k\n"
          ]
        }
      ]
    },
    {
      "cell_type": "markdown",
      "source": [
        "QUE4."
      ],
      "metadata": {
        "id": "-jytOXqzwk77"
      }
    },
    {
      "cell_type": "code",
      "source": [
        "df=pd.read_csv('/content/Iris.csv')\n",
        "print(df.head(5))"
      ],
      "metadata": {
        "colab": {
          "base_uri": "https://localhost:8080/"
        },
        "id": "agzeuGp6wS2g",
        "outputId": "70d8b052-c18e-42df-8b03-ebc41c961614"
      },
      "execution_count": null,
      "outputs": [
        {
          "output_type": "stream",
          "name": "stdout",
          "text": [
            "   Id  SepalLengthCm  SepalWidthCm  PetalLengthCm  PetalWidthCm      Species\n",
            "0   1            5.1           3.5            1.4           0.2  Iris-setosa\n",
            "1   2            4.9           3.0            1.4           0.2  Iris-setosa\n",
            "2   3            4.7           3.2            1.3           0.2  Iris-setosa\n",
            "3   4            4.6           3.1            1.5           0.2  Iris-setosa\n",
            "4   5            5.0           3.6            1.4           0.2  Iris-setosa\n"
          ]
        }
      ]
    },
    {
      "cell_type": "markdown",
      "source": [
        "QUE5."
      ],
      "metadata": {
        "id": "sZdzg_ZPwzBD"
      }
    },
    {
      "cell_type": "code",
      "source": [
        "df.drop(df.columns[3],axis=1,inplace=True)\n",
        "df.drop(4,axis=0,inplace=True)\n",
        "print(df)\n"
      ],
      "metadata": {
        "colab": {
          "base_uri": "https://localhost:8080/"
        },
        "id": "VhwfxdYHw05x",
        "outputId": "fb299143-e31e-4185-c2fc-bc7b32cf8fb5"
      },
      "execution_count": null,
      "outputs": [
        {
          "output_type": "stream",
          "name": "stdout",
          "text": [
            "      Id  SepalLengthCm  SepalWidthCm  PetalWidthCm         Species\n",
            "0      1            5.1           3.5           0.2     Iris-setosa\n",
            "1      2            4.9           3.0           0.2     Iris-setosa\n",
            "2      3            4.7           3.2           0.2     Iris-setosa\n",
            "3      4            4.6           3.1           0.2     Iris-setosa\n",
            "5      6            5.4           3.9           0.4     Iris-setosa\n",
            "..   ...            ...           ...           ...             ...\n",
            "145  146            6.7           3.0           2.3  Iris-virginica\n",
            "146  147            6.3           2.5           1.9  Iris-virginica\n",
            "147  148            6.5           3.0           2.0  Iris-virginica\n",
            "148  149            6.2           3.4           2.3  Iris-virginica\n",
            "149  150            5.9           3.0           1.8  Iris-virginica\n",
            "\n",
            "[149 rows x 5 columns]\n"
          ]
        }
      ]
    },
    {
      "cell_type": "markdown",
      "source": [
        "QUE6."
      ],
      "metadata": {
        "id": "a65lHVrp0XOZ"
      }
    },
    {
      "cell_type": "code",
      "source": [
        "employees={\"employee id\":[101,102,103,104,105],\"name\":[\"alice\",\"bob\",\"charlie\",\"diana\",\"edward\"],\"department\":[\"hr\",\"it\",\"it\",\n",
        "          \"marketing\",\"sales\"],\"age\":[39,34,41,28,38],\"salary\":[50000,70000,65000,55000,60000],\"experience\":[4,8,10,3,12],\"joining_date\":\n",
        "           [\"2020-03-15\",\"2017-07-19\",\"2013-06-01\",\"2021-02-10\",\"2010-11-25\"],\"gender\":[\"female\",\"male\",\"male\",\"female\",\"male\"],\"bonus\":[\n",
        "               5000,7000,6000,4500,5000],\"ratings\":[4.5,4.0,3.8,4.7,3.5]}\n",
        "df=pd.DataFrame(employees)\n",
        "print(df)"
      ],
      "metadata": {
        "colab": {
          "base_uri": "https://localhost:8080/"
        },
        "id": "XkI2vIKI0VfN",
        "outputId": "d59f075b-6f23-4116-9f77-4e9bec472eae"
      },
      "execution_count": null,
      "outputs": [
        {
          "output_type": "stream",
          "name": "stdout",
          "text": [
            "   employee id     name department  age  salary  experience joining_date  \\\n",
            "0          101    alice         hr   39   50000           4   2020-03-15   \n",
            "1          102      bob         it   34   70000           8   2017-07-19   \n",
            "2          103  charlie         it   41   65000          10   2013-06-01   \n",
            "3          104    diana  marketing   28   55000           3   2021-02-10   \n",
            "4          105   edward      sales   38   60000          12   2010-11-25   \n",
            "\n",
            "   gender  bonus  ratings  \n",
            "0  female   5000      4.5  \n",
            "1    male   7000      4.0  \n",
            "2    male   6000      3.8  \n",
            "3  female   4500      4.7  \n",
            "4    male   5000      3.5  \n"
          ]
        }
      ]
    },
    {
      "cell_type": "code",
      "source": [
        "print(df.shape)"
      ],
      "metadata": {
        "colab": {
          "base_uri": "https://localhost:8080/"
        },
        "id": "uAyP6AHw6Drx",
        "outputId": "ea245477-4c22-4f88-c62d-7669df8a819c"
      },
      "execution_count": null,
      "outputs": [
        {
          "output_type": "stream",
          "name": "stdout",
          "text": [
            "(5, 10)\n"
          ]
        }
      ]
    },
    {
      "cell_type": "code",
      "source": [
        "print(df.info())"
      ],
      "metadata": {
        "colab": {
          "base_uri": "https://localhost:8080/"
        },
        "id": "LtQsI1tM68z0",
        "outputId": "7744e30d-b4be-41c8-8cae-1c6e46de3d03"
      },
      "execution_count": null,
      "outputs": [
        {
          "output_type": "stream",
          "name": "stdout",
          "text": [
            "<class 'pandas.core.frame.DataFrame'>\n",
            "RangeIndex: 5 entries, 0 to 4\n",
            "Data columns (total 10 columns):\n",
            " #   Column        Non-Null Count  Dtype  \n",
            "---  ------        --------------  -----  \n",
            " 0   employee id   5 non-null      int64  \n",
            " 1   name          5 non-null      object \n",
            " 2   department    5 non-null      object \n",
            " 3   age           5 non-null      int64  \n",
            " 4   salary        5 non-null      int64  \n",
            " 5   experience    5 non-null      int64  \n",
            " 6   joining_date  5 non-null      object \n",
            " 7   gender        5 non-null      object \n",
            " 8   bonus         5 non-null      int64  \n",
            " 9   ratings       5 non-null      float64\n",
            "dtypes: float64(1), int64(5), object(4)\n",
            "memory usage: 532.0+ bytes\n",
            "None\n"
          ]
        }
      ]
    },
    {
      "cell_type": "code",
      "source": [
        "print(df.describe())"
      ],
      "metadata": {
        "colab": {
          "base_uri": "https://localhost:8080/"
        },
        "id": "GLviQ1bM6Npu",
        "outputId": "759dd4fa-0a87-4b72-c96a-ed85effcd345"
      },
      "execution_count": null,
      "outputs": [
        {
          "output_type": "stream",
          "name": "stdout",
          "text": [
            "       employee id        age       salary  experience   bonus   ratings\n",
            "count     5.000000   5.000000      5.00000    5.000000     5.0  5.000000\n",
            "mean    103.000000  36.000000  60000.00000    7.400000  5500.0  4.100000\n",
            "std       1.581139   5.147815   7905.69415    3.847077  1000.0  0.494975\n",
            "min     101.000000  28.000000  50000.00000    3.000000  4500.0  3.500000\n",
            "25%     102.000000  34.000000  55000.00000    4.000000  5000.0  3.800000\n",
            "50%     103.000000  38.000000  60000.00000    8.000000  5000.0  4.000000\n",
            "75%     104.000000  39.000000  65000.00000   10.000000  6000.0  4.500000\n",
            "max     105.000000  41.000000  70000.00000   12.000000  7000.0  4.700000\n"
          ]
        }
      ]
    },
    {
      "cell_type": "code",
      "source": [
        "print(df.head(5))\n",
        "print(df.tail(3))"
      ],
      "metadata": {
        "colab": {
          "base_uri": "https://localhost:8080/"
        },
        "id": "4t2SXex57BoY",
        "outputId": "ce0fd8e3-d87b-47a2-f8bb-5467c08a1d12"
      },
      "execution_count": null,
      "outputs": [
        {
          "output_type": "stream",
          "name": "stdout",
          "text": [
            "   employee id     name department  age  salary  experience joining_date  \\\n",
            "0          101    alice         hr   39   50000           4   2020-03-15   \n",
            "1          102      bob         it   34   70000           8   2017-07-19   \n",
            "2          103  charlie         it   41   65000          10   2013-06-01   \n",
            "3          104    diana  marketing   28   55000           3   2021-02-10   \n",
            "4          105   edward      sales   38   60000          12   2010-11-25   \n",
            "\n",
            "   gender  bonus  ratings  \n",
            "0  female   5000      4.5  \n",
            "1    male   7000      4.0  \n",
            "2    male   6000      3.8  \n",
            "3  female   4500      4.7  \n",
            "4    male   5000      3.5  \n",
            "   employee id     name department  age  salary  experience joining_date  \\\n",
            "2          103  charlie         it   41   65000          10   2013-06-01   \n",
            "3          104    diana  marketing   28   55000           3   2021-02-10   \n",
            "4          105   edward      sales   38   60000          12   2010-11-25   \n",
            "\n",
            "   gender  bonus  ratings  \n",
            "2    male   6000      3.8  \n",
            "3  female   4500      4.7  \n",
            "4    male   5000      3.5  \n"
          ]
        }
      ]
    },
    {
      "cell_type": "code",
      "source": [
        "print(df[\"salary\"].mean())"
      ],
      "metadata": {
        "colab": {
          "base_uri": "https://localhost:8080/"
        },
        "id": "DWR_rnWl7k71",
        "outputId": "a1d018df-6506-4daf-e34e-8fc7706687eb"
      },
      "execution_count": null,
      "outputs": [
        {
          "output_type": "stream",
          "name": "stdout",
          "text": [
            "60000.0\n"
          ]
        }
      ]
    },
    {
      "cell_type": "code",
      "source": [
        "print(df[\"bonus\"].sum())"
      ],
      "metadata": {
        "colab": {
          "base_uri": "https://localhost:8080/"
        },
        "id": "Mix3m48_8e5h",
        "outputId": "c5ffb63c-0a69-435d-a693-a15bdd10bfea"
      },
      "execution_count": null,
      "outputs": [
        {
          "output_type": "stream",
          "name": "stdout",
          "text": [
            "27500\n"
          ]
        }
      ]
    },
    {
      "cell_type": "code",
      "source": [
        "print(df[\"age\"].min())"
      ],
      "metadata": {
        "colab": {
          "base_uri": "https://localhost:8080/"
        },
        "id": "3UBP0aUA8nVa",
        "outputId": "63aa098a-54fd-4a36-d022-f5c058728a39"
      },
      "execution_count": null,
      "outputs": [
        {
          "output_type": "stream",
          "name": "stdout",
          "text": [
            "28\n"
          ]
        }
      ]
    },
    {
      "cell_type": "code",
      "source": [
        "print(df[\"ratings\"].max())"
      ],
      "metadata": {
        "colab": {
          "base_uri": "https://localhost:8080/"
        },
        "id": "nfUG_ItO8uWH",
        "outputId": "0d6a8855-a219-4716-b314-4cf3717dab61"
      },
      "execution_count": null,
      "outputs": [
        {
          "output_type": "stream",
          "name": "stdout",
          "text": [
            "4.7\n"
          ]
        }
      ]
    },
    {
      "cell_type": "code",
      "source": [
        "df.sort_values(by=\"salary\",ascending=False,inplace=True)\n",
        "print(df)"
      ],
      "metadata": {
        "colab": {
          "base_uri": "https://localhost:8080/"
        },
        "id": "GEGKfVVS86Nr",
        "outputId": "307838e2-ba6b-4267-d2f3-7534bf47923a"
      },
      "execution_count": null,
      "outputs": [
        {
          "output_type": "stream",
          "name": "stdout",
          "text": [
            "   employee id     name department  age  salary  experience joining_date  \\\n",
            "1          102      bob         it   34   70000           8   2017-07-19   \n",
            "2          103  charlie         it   41   65000          10   2013-06-01   \n",
            "4          105   edward      sales   38   60000          12   2010-11-25   \n",
            "3          104    diana  marketing   28   55000           3   2021-02-10   \n",
            "0          101    alice         hr   39   50000           4   2020-03-15   \n",
            "\n",
            "   gender  bonus  ratings  \n",
            "1    male   7000      4.0  \n",
            "2    male   6000      3.8  \n",
            "4    male   5000      3.5  \n",
            "3  female   4500      4.7  \n",
            "0  female   5000      4.5  \n"
          ]
        }
      ]
    },
    {
      "cell_type": "code",
      "source": [
        "df['category']='other'"
      ],
      "metadata": {
        "id": "ZJPmI9rY95pL"
      },
      "execution_count": null,
      "outputs": []
    },
    {
      "cell_type": "code",
      "source": [
        "list1=[]\n",
        "for i in df[\"ratings\"]:\n",
        "  if i>=4.5:\n",
        "    list1.append(\"excellent\")\n",
        "  elif i>=4.0 and i<4.5:\n",
        "    list1.append(\"good\")\n",
        "  else:\n",
        "    list1.append(\"good\")\n",
        "print(list1)\n",
        "df['rating_category']=list1\n",
        "print(df)\n"
      ],
      "metadata": {
        "colab": {
          "base_uri": "https://localhost:8080/"
        },
        "id": "g1Uy2XRe_QAF",
        "outputId": "d8ad139d-da24-459a-f269-cf924bf13f69"
      },
      "execution_count": null,
      "outputs": [
        {
          "output_type": "stream",
          "name": "stdout",
          "text": [
            "['good', 'good', 'good', 'excellent', 'excellent']\n",
            "   employee id     name department  age  salary  experience joining_date  \\\n",
            "1          102      bob         it   34   70000           8   2017-07-19   \n",
            "2          103  charlie         it   41   65000          10   2013-06-01   \n",
            "4          105   edward      sales   38   60000          12   2010-11-25   \n",
            "3          104    diana  marketing   28   55000           3   2021-02-10   \n",
            "0          101    alice         hr   39   50000           4   2020-03-15   \n",
            "\n",
            "   gender  bonus  ratings category rating_category  \n",
            "1    male   7000      4.0    other            good  \n",
            "2    male   6000      3.8    other            good  \n",
            "4    male   5000      3.5    other            good  \n",
            "3  female   4500      4.7    other       excellent  \n",
            "0  female   5000      4.5    other       excellent  \n"
          ]
        }
      ]
    },
    {
      "cell_type": "code",
      "source": [
        "print(df.isnull())"
      ],
      "metadata": {
        "colab": {
          "base_uri": "https://localhost:8080/"
        },
        "id": "B18GevAVGSyd",
        "outputId": "6b8be4c5-5cb7-480c-8e02-321b2631cbf7"
      },
      "execution_count": null,
      "outputs": [
        {
          "output_type": "stream",
          "name": "stdout",
          "text": [
            "   employee id   name  department    age  salary  experience  joining_date  \\\n",
            "1        False  False       False  False   False       False         False   \n",
            "2        False  False       False  False   False       False         False   \n",
            "4        False  False       False  False   False       False         False   \n",
            "3        False  False       False  False   False       False         False   \n",
            "0        False  False       False  False   False       False         False   \n",
            "\n",
            "   gender  bonus  ratings  category  rating_category  \n",
            "1   False  False    False     False            False  \n",
            "2   False  False    False     False            False  \n",
            "4   False  False    False     False            False  \n",
            "3   False  False    False     False            False  \n",
            "0   False  False    False     False            False  \n"
          ]
        }
      ]
    },
    {
      "cell_type": "code",
      "source": [
        "df = df.rename(columns={'employee id': 'id'})\n",
        "print(df)"
      ],
      "metadata": {
        "colab": {
          "base_uri": "https://localhost:8080/"
        },
        "id": "bnhrbOsJISJ1",
        "outputId": "cab7e243-7ef6-4751-de14-dd5da10e1cc2"
      },
      "execution_count": null,
      "outputs": [
        {
          "output_type": "stream",
          "name": "stdout",
          "text": [
            "    id     name department  age  salary  experience joining_date  gender  \\\n",
            "1  102      bob         it   34   70000           8   2017-07-19    male   \n",
            "2  103  charlie         it   41   65000          10   2013-06-01    male   \n",
            "4  105   edward      sales   38   60000          12   2010-11-25    male   \n",
            "3  104    diana  marketing   28   55000           3   2021-02-10  female   \n",
            "0  101    alice         hr   39   50000           4   2020-03-15  female   \n",
            "\n",
            "   bonus  ratings category rating_category  \n",
            "1   7000      4.0    other            good  \n",
            "2   6000      3.8    other            good  \n",
            "4   5000      3.5    other            good  \n",
            "3   4500      4.7    other       excellent  \n",
            "0   5000      4.5    other       excellent  \n"
          ]
        }
      ]
    },
    {
      "cell_type": "code",
      "source": [
        "x=df.loc[df['experience']>5]\n",
        "print(x)\n",
        "print('\\n')\n",
        "y=df.loc[df['department']=='it']\n",
        "print(y)\n"
      ],
      "metadata": {
        "colab": {
          "base_uri": "https://localhost:8080/"
        },
        "id": "dgULbfvVIqb5",
        "outputId": "abd90b50-971f-486f-8831-3f225fa31eb8"
      },
      "execution_count": null,
      "outputs": [
        {
          "output_type": "stream",
          "name": "stdout",
          "text": [
            "    id     name department  age  salary  experience joining_date gender  \\\n",
            "1  102      bob         it   34   70000           8   2017-07-19   male   \n",
            "2  103  charlie         it   41   65000          10   2013-06-01   male   \n",
            "4  105   edward      sales   38   60000          12   2010-11-25   male   \n",
            "\n",
            "   bonus  ratings category rating_category  \n",
            "1   7000      4.0    other            good  \n",
            "2   6000      3.8    other            good  \n",
            "4   5000      3.5    other            good  \n",
            "\n",
            "\n",
            "    id     name department  age  salary  experience joining_date gender  \\\n",
            "1  102      bob         it   34   70000           8   2017-07-19   male   \n",
            "2  103  charlie         it   41   65000          10   2013-06-01   male   \n",
            "\n",
            "   bonus  ratings category rating_category  \n",
            "1   7000      4.0    other            good  \n",
            "2   6000      3.8    other            good  \n"
          ]
        }
      ]
    },
    {
      "cell_type": "code",
      "source": [
        "list1=[]\n",
        "for i in df['salary']:\n",
        "  list1.append(0.1*i)\n",
        "df['tax']=list1\n",
        "print(df)"
      ],
      "metadata": {
        "colab": {
          "base_uri": "https://localhost:8080/"
        },
        "id": "TVkShl62OQUH",
        "outputId": "e9b7cee0-78c8-477d-86af-b75c86341f7a"
      },
      "execution_count": null,
      "outputs": [
        {
          "output_type": "stream",
          "name": "stdout",
          "text": [
            "    id     name department  age  salary  experience joining_date  gender  \\\n",
            "1  102      bob         it   34   70000           8   2017-07-19    male   \n",
            "2  103  charlie         it   41   65000          10   2013-06-01    male   \n",
            "4  105   edward      sales   38   60000          12   2010-11-25    male   \n",
            "3  104    diana  marketing   28   55000           3   2021-02-10  female   \n",
            "0  101    alice         hr   39   50000           4   2020-03-15  female   \n",
            "\n",
            "    bonus  ratings category rating_category     tax  \n",
            "1  7000.0      4.0    other            good  7000.0  \n",
            "2  6500.0      3.8    other            good  6500.0  \n",
            "4  6000.0      3.5    other            good  6000.0  \n",
            "3  5500.0      4.7    other       excellent  5500.0  \n",
            "0  5000.0      4.5    other       excellent  5000.0  \n"
          ]
        }
      ]
    },
    {
      "cell_type": "code",
      "source": [
        "df.to_csv('employee_data.csv')"
      ],
      "metadata": {
        "id": "T89ZLUdCO3pd"
      },
      "execution_count": null,
      "outputs": []
    }
  ]
}