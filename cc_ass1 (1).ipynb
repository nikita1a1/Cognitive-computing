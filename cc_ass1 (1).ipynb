{
  "nbformat": 4,
  "nbformat_minor": 0,
  "metadata": {
    "colab": {
      "provenance": []
    },
    "kernelspec": {
      "name": "python3",
      "display_name": "Python 3"
    },
    "language_info": {
      "name": "python"
    }
  },
  "cells": [
    {
      "cell_type": "markdown",
      "source": [
        "QUE1:"
      ],
      "metadata": {
        "id": "1BECPau68b5V"
      }
    },
    {
      "cell_type": "code",
      "execution_count": null,
      "metadata": {
        "colab": {
          "base_uri": "https://localhost:8080/"
        },
        "id": "rG9Ilz-QaUNC",
        "outputId": "442681f7-231f-45bc-8415-1bc49303000a"
      },
      "outputs": [
        {
          "output_type": "stream",
          "name": "stdout",
          "text": [
            "welcome to the world of tech\n"
          ]
        }
      ],
      "source": [
        "print(\"welcome to the world of tech\")"
      ]
    },
    {
      "cell_type": "markdown",
      "source": [
        "QUE2:"
      ],
      "metadata": {
        "id": "kUkl2zPB8h7z"
      }
    },
    {
      "cell_type": "code",
      "source": [
        "2+5\n",
        "str1=\"coder \"\n",
        "str2=\"nikita\"\n",
        "str3=str1+str2\n",
        "print(str3)\n",
        "str4=\"hello\"\n",
        "str5=5\n",
        "str6=f\"{str4},{str5}\"\n",
        "print(str6)"
      ],
      "metadata": {
        "colab": {
          "base_uri": "https://localhost:8080/"
        },
        "id": "f0U9dwqjeewt",
        "outputId": "dd0d48ad-0b5a-4300-dbb2-c2b8ab2a7937"
      },
      "execution_count": null,
      "outputs": [
        {
          "output_type": "stream",
          "name": "stdout",
          "text": [
            "coder nikita\n",
            "hello,5\n"
          ]
        }
      ]
    },
    {
      "cell_type": "markdown",
      "source": [
        "QUE3:"
      ],
      "metadata": {
        "id": "eycAUKkO8mek"
      }
    },
    {
      "cell_type": "code",
      "source": [
        "n=input(\"enter a number\")\n",
        "n=int(n)\n",
        "if(n < 0):\n",
        "  print(\"negative\")\n",
        "elif (n > 0):\n",
        "  print(\"positive\")\n",
        "else:\n",
        "  print(\"zero\")\n",
        "if(n%2==0):\n",
        " print(\"even\")\n",
        "else:\n",
        "  print(\"odd\")\n"
      ],
      "metadata": {
        "colab": {
          "base_uri": "https://localhost:8080/"
        },
        "id": "_m_GL4aEfS6d",
        "outputId": "da409e5e-de48-4ab5-8fb9-b47aa294dadb"
      },
      "execution_count": null,
      "outputs": [
        {
          "output_type": "stream",
          "name": "stdout",
          "text": [
            "enter a number10\n",
            "positive\n",
            "even\n"
          ]
        }
      ]
    },
    {
      "cell_type": "markdown",
      "source": [
        "QUE4:"
      ],
      "metadata": {
        "id": "enadeoGv8r8t"
      }
    },
    {
      "cell_type": "code",
      "source": [
        "for i in range(1,11):\n",
        "  print(i)"
      ],
      "metadata": {
        "colab": {
          "base_uri": "https://localhost:8080/"
        },
        "id": "Fx_7kyAiiARc",
        "outputId": "1a26765e-45d0-46b8-96c5-192322afbb5e"
      },
      "execution_count": null,
      "outputs": [
        {
          "output_type": "stream",
          "name": "stdout",
          "text": [
            "1\n",
            "2\n",
            "3\n",
            "4\n",
            "5\n",
            "6\n",
            "7\n",
            "8\n",
            "9\n",
            "10\n"
          ]
        }
      ]
    },
    {
      "cell_type": "code",
      "source": [
        "i=1\n",
        "while i<=10:\n",
        "  print(i)\n",
        "  i=i+1"
      ],
      "metadata": {
        "colab": {
          "base_uri": "https://localhost:8080/"
        },
        "id": "uhxvbK6lu0OG",
        "outputId": "4846699e-cb21-4c64-825d-59b8bbc4efc6"
      },
      "execution_count": null,
      "outputs": [
        {
          "output_type": "stream",
          "name": "stdout",
          "text": [
            "1\n",
            "2\n",
            "3\n",
            "4\n",
            "5\n",
            "6\n",
            "7\n",
            "8\n",
            "9\n",
            "10\n"
          ]
        }
      ]
    },
    {
      "cell_type": "code",
      "source": [
        "sum=0\n",
        "for i in range(1,101):\n",
        " sum=sum+i\n",
        "print(sum)"
      ],
      "metadata": {
        "colab": {
          "base_uri": "https://localhost:8080/"
        },
        "id": "C6IKhexMvV_Z",
        "outputId": "45026895-894b-4fa5-c2b1-e172784f2bbc"
      },
      "execution_count": null,
      "outputs": [
        {
          "output_type": "stream",
          "name": "stdout",
          "text": [
            "5050\n"
          ]
        }
      ]
    },
    {
      "cell_type": "markdown",
      "source": [
        "QUE5:"
      ],
      "metadata": {
        "id": "9T3xe1i8LG2T"
      }
    },
    {
      "cell_type": "code",
      "source": [
        "list1=[10,34,50,89,23]\n",
        "print(max(list1))\n",
        "print(min(list1))\n",
        "dict1={'name':\"nikita\",'year':2,'subject':\"ai\"}\n",
        "print(dict1)\n",
        "print(dict1['name'])\n",
        "list1.sort()\n",
        "print(list1)\n",
        "list1.sort(reverse = True)\n",
        "print(list1)\n",
        "dict2={'country':'india'}\n",
        "dict1.update(dict2)\n",
        "print(dict1)"
      ],
      "metadata": {
        "colab": {
          "base_uri": "https://localhost:8080/"
        },
        "id": "2iBRRflKvji_",
        "outputId": "efeac7de-0c50-4b8b-cb7e-945439bb7aa9"
      },
      "execution_count": null,
      "outputs": [
        {
          "output_type": "stream",
          "name": "stdout",
          "text": [
            "89\n",
            "10\n",
            "{'name': 'nikita', 'year': 2, 'subject': 'ai'}\n",
            "nikita\n",
            "[10, 23, 34, 50, 89]\n",
            "[89, 50, 34, 23, 10]\n",
            "{'name': 'nikita', 'year': 2, 'subject': 'ai', 'country': 'india'}\n"
          ]
        }
      ]
    },
    {
      "cell_type": "markdown",
      "source": [
        "QUE6:"
      ],
      "metadata": {
        "id": "Zx7r26F3LO7Z"
      }
    },
    {
      "cell_type": "code",
      "source": [
        "count=0\n",
        "str=\"mounteverest\"\n",
        "for i in str:\n",
        "  if(i=='a' or i=='e' or i=='i' or i=='o' or i=='u'):\n",
        "    count=count+1\n",
        "print(count)\n",
        "str2=\"\"\n",
        "for i in str:\n",
        "  str2=i+str2\n",
        "print(str2)\n",
        "i=0\n",
        "j=len(str)-1\n",
        "while i<=j:\n",
        "  if(str[i]==str[j]):\n",
        "    i=i+1\n",
        "    j=j-1\n",
        "    print(\"palindrome\")\n",
        "  else:\n",
        "    print(\"not palindrome\")\n",
        "    break"
      ],
      "metadata": {
        "colab": {
          "base_uri": "https://localhost:8080/"
        },
        "id": "AydqQOTrxlFh",
        "outputId": "9f1b0541-bc3b-48dc-e1b2-0412778c6909"
      },
      "execution_count": null,
      "outputs": [
        {
          "output_type": "stream",
          "name": "stdout",
          "text": [
            "5\n",
            "tserevetnuom\n",
            "not palindrome\n"
          ]
        }
      ]
    },
    {
      "cell_type": "markdown",
      "source": [
        "QUE7:"
      ],
      "metadata": {
        "id": "6x4qxtBY89sM"
      }
    },
    {
      "cell_type": "code",
      "source": [
        "f=open(\"nikita.txt\",'w')"
      ],
      "metadata": {
        "id": "Lz04RaSz-yOp"
      },
      "execution_count": null,
      "outputs": []
    },
    {
      "cell_type": "code",
      "source": [
        "f.write(\"new file is created. it has more content in it.\")\n",
        "f.close()\n",
        "f=open(\"nikita.txt\",'r')\n",
        "print(f.read())\n",
        "f.close()\n",
        "f=open(\"nikita.txt\",'a')\n",
        "f.write(\"new content is added.\")\n",
        "f.close()\n",
        "f=open(\"nikita.txt\",'r')\n",
        "print(f.read())\n",
        "f.close()\n"
      ],
      "metadata": {
        "colab": {
          "base_uri": "https://localhost:8080/"
        },
        "id": "xUx1N3J4-3vJ",
        "outputId": "45fd3031-a901-4d72-9c13-861f6fe2ce97"
      },
      "execution_count": null,
      "outputs": [
        {
          "output_type": "stream",
          "name": "stdout",
          "text": [
            "new file is created./n it has more content in it.\n",
            "new file is created./n it has more content in it.new content is added.\n"
          ]
        }
      ]
    },
    {
      "cell_type": "code",
      "source": [
        "with open(\"nikita.txt\",'r') as f:\n",
        "  lines=f.readlines()\n",
        "  line=len(lines)\n",
        "print(line)"
      ],
      "metadata": {
        "colab": {
          "base_uri": "https://localhost:8080/"
        },
        "id": "q1MeutMRDRMD",
        "outputId": "f84251c6-aa56-47d0-a0c3-ccabf443a5d5"
      },
      "execution_count": null,
      "outputs": [
        {
          "output_type": "stream",
          "name": "stdout",
          "text": [
            "1\n"
          ]
        }
      ]
    },
    {
      "cell_type": "markdown",
      "source": [
        "QUE8:"
      ],
      "metadata": {
        "id": "zauahRX09BXK"
      }
    },
    {
      "cell_type": "code",
      "source": [
        "a=input(\"enter a number\")\n",
        "b=input(\"enter a number\")\n",
        "a=int(a)\n",
        "b=int(b)\n",
        "try:\n",
        "  c=a/b\n",
        "  print(c)\n",
        "except :\n",
        "  print( \"error\")\n"
      ],
      "metadata": {
        "colab": {
          "base_uri": "https://localhost:8080/"
        },
        "id": "oZKlbmTZDs2X",
        "outputId": "dca7cb0d-dee4-49bc-f8d5-1236910b2f3f"
      },
      "execution_count": null,
      "outputs": [
        {
          "output_type": "stream",
          "name": "stdout",
          "text": [
            "enter a number9\n",
            "enter a number0\n",
            "error\n"
          ]
        }
      ]
    },
    {
      "cell_type": "code",
      "source": [
        "\n",
        "try:\n",
        "  x=int(input(\"enter number\"))\n",
        "  print(x)\n",
        "except:\n",
        "  print(\"error\")\n",
        "finally:\n",
        "  print (\"issue solved\")\n",
        ""
      ],
      "metadata": {
        "colab": {
          "base_uri": "https://localhost:8080/"
        },
        "id": "pshPqbe_It26",
        "outputId": "b17dfb73-08f4-462b-ced3-89d4f45a03f8"
      },
      "execution_count": null,
      "outputs": [
        {
          "output_type": "stream",
          "name": "stdout",
          "text": [
            "enter number9\n",
            "9\n",
            "issue solved\n"
          ]
        }
      ]
    },
    {
      "cell_type": "markdown",
      "source": [
        "QUE9:"
      ],
      "metadata": {
        "id": "gzrc6rXh9GcN"
      }
    },
    {
      "cell_type": "code",
      "source": [
        "from numpy import random\n",
        "for i in range(5):\n",
        "  x=random.randint(100)\n",
        "  print(x)"
      ],
      "metadata": {
        "colab": {
          "base_uri": "https://localhost:8080/"
        },
        "id": "riCA7DwpL_Vj",
        "outputId": "1aa88c64-e107-4e64-eae4-cf6fa459c1f9"
      },
      "execution_count": null,
      "outputs": [
        {
          "output_type": "stream",
          "name": "stdout",
          "text": [
            "26\n",
            "3\n",
            "41\n",
            "60\n",
            "48\n"
          ]
        }
      ]
    },
    {
      "cell_type": "code",
      "source": [
        "from numpy import random\n",
        "x=random.randint(100)\n",
        "print(x)\n",
        "for i in range (1,(int(x/2)+1)):\n",
        "  if(x%i==0 and i!=1):\n",
        "    print(\"not prime\")\n",
        "    break\n",
        "else:\n",
        "  print(\"prime\")"
      ],
      "metadata": {
        "id": "JmsKzTObO-BE",
        "colab": {
          "base_uri": "https://localhost:8080/"
        },
        "outputId": "c500b019-9968-4982-a72f-9b5edff9077b"
      },
      "execution_count": null,
      "outputs": [
        {
          "output_type": "stream",
          "name": "stdout",
          "text": [
            "41\n",
            "prime\n"
          ]
        }
      ]
    },
    {
      "cell_type": "code",
      "source": [
        "from numpy import random\n",
        "x=random.choice([1,2,3,4,5,6])\n",
        "print(x)\n",
        "y=random.choice(10)\n",
        "print(y)"
      ],
      "metadata": {
        "colab": {
          "base_uri": "https://localhost:8080/"
        },
        "id": "YXV6kOYRJu69",
        "outputId": "4a932ba3-6f9d-4a2d-cb45-ff6260d562e7"
      },
      "execution_count": null,
      "outputs": [
        {
          "output_type": "stream",
          "name": "stdout",
          "text": [
            "6\n",
            "5\n"
          ]
        }
      ]
    },
    {
      "cell_type": "code",
      "source": [
        "list1=['a','e','i','o','u']\n",
        "random.shuffle(list1)\n",
        "print(list1)\n",
        "random.c"
      ],
      "metadata": {
        "colab": {
          "base_uri": "https://localhost:8080/"
        },
        "id": "3Ryliz4RTXUP",
        "outputId": "7cb4db89-4080-432f-a0da-51aac6b19048"
      },
      "execution_count": null,
      "outputs": [
        {
          "output_type": "stream",
          "name": "stdout",
          "text": [
            "['a', 'i', 'u', 'e', 'o']\n"
          ]
        }
      ]
    },
    {
      "cell_type": "code",
      "source": [
        "x=random.randint(9,size=5)\n",
        "print(x)"
      ],
      "metadata": {
        "colab": {
          "base_uri": "https://localhost:8080/"
        },
        "id": "W7jg3HFyVU7F",
        "outputId": "c9d31bba-b919-4d3b-ebb3-ffae721f16cd"
      },
      "execution_count": null,
      "outputs": [
        {
          "output_type": "stream",
          "name": "stdout",
          "text": [
            "[4 0 1 3 8]\n"
          ]
        }
      ]
    },
    {
      "cell_type": "code",
      "source": [
        "import random\n",
        "n=int(input(\"enter no of values\"))\n",
        "option='ABCDEFGHIJKLMNOPQRSTUVWXYZ123456789abcdefghijklmnop@!#$%'\n",
        "password=''.join(random.choices(option,k=n))\n",
        "print(password)"
      ],
      "metadata": {
        "colab": {
          "base_uri": "https://localhost:8080/"
        },
        "id": "k3ArLwPjYTmz",
        "outputId": "07f11325-13f6-4ad0-87d7-3845c5b090bd"
      },
      "execution_count": null,
      "outputs": [
        {
          "output_type": "stream",
          "name": "stdout",
          "text": [
            "enter no of values9\n",
            "ASBLDg8ON\n"
          ]
        }
      ]
    },
    {
      "cell_type": "code",
      "source": [
        "list1=['diamond','heart','spade','club']\n",
        "list2=['king','queen','jack','ace',1,2,3,4,5,6,7,8,9,10]\n",
        "a=random.choice(list1)\n",
        "b=random.choice(list2)\n",
        "print(f\"the card is {a} {b}\")"
      ],
      "metadata": {
        "colab": {
          "base_uri": "https://localhost:8080/"
        },
        "id": "UvPbMT3Yces7",
        "outputId": "f5e755f0-c6e4-4ce9-c0f3-6cddfe055911"
      },
      "execution_count": null,
      "outputs": [
        {
          "output_type": "stream",
          "name": "stdout",
          "text": [
            "the card is club 2\n"
          ]
        }
      ]
    },
    {
      "cell_type": "markdown",
      "source": [
        "QUE10:"
      ],
      "metadata": {
        "id": "rEAfmO1x9Mcw"
      }
    },
    {
      "cell_type": "code",
      "source": [
        "import sys\n",
        "sys.argv=[1,2,3]\n",
        "n1=int(sys.argv[1])\n",
        "n2=int(sys.argv[2])\n",
        "print(n1+n2)\n",
        "\n"
      ],
      "metadata": {
        "colab": {
          "base_uri": "https://localhost:8080/"
        },
        "id": "39NBwHO88Qr-",
        "outputId": "cdc32c1d-39ac-4336-bb24-f6609b7163e1"
      },
      "execution_count": 12,
      "outputs": [
        {
          "output_type": "stream",
          "name": "stdout",
          "text": [
            "5\n"
          ]
        }
      ]
    },
    {
      "cell_type": "markdown",
      "source": [
        "QUE11:"
      ],
      "metadata": {
        "id": "6KaCMXtK9RAN"
      }
    },
    {
      "cell_type": "code",
      "source": [
        "import sys\n",
        "sys.argv=[\"pranam\"]\n",
        "print(len(sys.argv))\n"
      ],
      "metadata": {
        "id": "vCNiPrdLKkBJ"
      },
      "execution_count": null,
      "outputs": []
    },
    {
      "cell_type": "code",
      "source": [
        "import math\n",
        "x=math.sqrt(16)\n",
        "print(x)\n",
        "import datetime\n",
        "x=datetime.datetime.now()\n",
        "print(x)\n",
        "import os\n",
        "os.listdir()"
      ],
      "metadata": {
        "colab": {
          "base_uri": "https://localhost:8080/"
        },
        "id": "rLYIOnCLmKGI",
        "outputId": "6a018dc5-a186-4112-f90a-26318e172540"
      },
      "execution_count": null,
      "outputs": [
        {
          "output_type": "stream",
          "name": "stdout",
          "text": [
            "4.0\n",
            "2025-01-18 04:21:03.343309\n"
          ]
        },
        {
          "output_type": "execute_result",
          "data": {
            "text/plain": [
              "['.config', 'sample_data']"
            ]
          },
          "metadata": {},
          "execution_count": 11
        }
      ]
    }
  ]
}